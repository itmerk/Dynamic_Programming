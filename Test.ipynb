{
 "cells": [
  {
   "cell_type": "markdown",
   "metadata": {},
   "source": [
    "# Question 1\n",
    "\n",
    "## Problem Description:\n",
    "\n",
    "You are given an integer array coins representing coins of different denominations and an integer\n",
    "amount representing a total amount of money.\n",
    "Return the fewest number of coins that you need to make up that amount. If that amount of money\n",
    "cannot be made up by any combination of the coins, return -1.\n",
    "You may assume that you have an infinite number of each kind of coin.\n",
    "Input Description:\n",
    "An integer array `coins` representing coins of different denominations.\n",
    "An integer `amount` representing a total amount of money.\n",
    "Output Description:\n",
    "The fewest number of coins needed to make up the amount. If the amount cannot be made up,\n",
    "return -1.\n",
    "\n",
    "Examples:\n",
    "\n",
    "**Example 1:**\n",
    "- Input: `coins = [1, 2, 5]`, `amount = 11`\n",
    "- Output: `3`\n",
    "- Explanation: `11 = 5 + 5 + 1`\n",
    "\n",
    "**Example 2:**\n",
    "\n",
    "- Input: `coins = [2]`, `amount = 3`\n",
    "- Output: `-1`\n",
    "\n",
    "**Example 3:**\n",
    "\n",
    "- Input: `coins = [1]`, `amount = 0`\n",
    "- Output: `0`\n",
    "\n",
    "Constraints:\n",
    "\n",
    "1 <= coins.length <= 12\n",
    "\n",
    "1 <= coins[i] <= 2^31 - 1\n",
    "\n",
    "0 <= amount <= 10^4\n",
    "\n"
   ]
  },
  {
   "cell_type": "code",
   "execution_count": 175,
   "metadata": {},
   "outputs": [
    {
     "name": "stdout",
     "output_type": "stream",
     "text": [
      "3\n"
     ]
    }
   ],
   "source": [
    "# Normal approach\n",
    "\n",
    "#coins = list(map(int, input().split()))\n",
    "coins = [1,2,5]\n",
    "#amount = int(input())\n",
    "amount = 11\n",
    "total_amount = 0\n",
    "\n",
    "for i in range(len(coins)):\n",
    "    total_amount += coins[i]\n",
    "\n",
    "if len(coins) <= 1 and total_amount <= amount:\n",
    "    print(-1)\n",
    "elif len(coins) <= 1 and total_amount > amount:\n",
    "    print(0)\n",
    "elif len(coins) > 1 and total_amount < amount:\n",
    "    print(amount - total_amount)"
   ]
  },
  {
   "cell_type": "code",
   "execution_count": 4,
   "metadata": {},
   "outputs": [
    {
     "name": "stdout",
     "output_type": "stream",
     "text": [
      "[1, 3, 8]\n",
      "3\n"
     ]
    }
   ],
   "source": [
    "# DP Approch\n",
    "def min_coins(coins, amount):\n",
    "    if amount == 0:\n",
    "        return 0\n",
    "    else:\n",
    "        size = len(coins)\n",
    "        total_amount = 0\n",
    "        dp = [0] * (size)\n",
    "\n",
    "        dp[0] = coins[0]\n",
    "\n",
    "        dp[1] = coins[1] + dp[0]\n",
    "\n",
    "        for i in range(2, size):\n",
    "            dp[i] = dp[i-1] + coins[i]\n",
    "            print(dp)\n",
    "            total_amount = max(dp)\n",
    "            if total_amount < amount:\n",
    "                print(amount - total_amount)\n",
    "\n",
    "#coins = list(map(int, input().split()))\n",
    "coins = [1,2,5]\n",
    "#amount = int(input())\n",
    "amount = 11\n",
    "result = min_coins(coins, amount)"
   ]
  },
  {
   "cell_type": "markdown",
   "metadata": {},
   "source": [
    "# Question 2\n",
    "\n",
    "Problem Description:\n",
    "\n",
    "Given a string `s`, return the longest palindromic substring in `s`.\n",
    "Input Description:\n",
    "A string `s`.\n",
    "Output Description:\n",
    "The longest palindromic substring in `s`.\n",
    "\n",
    "Examples:\n",
    "\n",
    "**Example 1:**\n",
    "- Input: `s = \"babad\"`\n",
    "- Output: `\"bab\"`\n",
    "- Explanation: `\"aba\"` is also a valid answer.\n",
    "\n",
    "**Example 2:**\n",
    "- Input: `s = \"cbbd\"`\n",
    "- Output: `\"bb\"`\n",
    "\n",
    "Constraints:\n",
    "\n",
    "1 <= s.length <= 1000\n",
    "\n",
    "s consists of only digits and English letters."
   ]
  },
  {
   "cell_type": "code",
   "execution_count": 166,
   "metadata": {},
   "outputs": [
    {
     "name": "stdout",
     "output_type": "stream",
     "text": [
      "aba\n"
     ]
    }
   ],
   "source": [
    "# Normal Approach\n",
    "\n",
    "#s= input()\n",
    "s = 'babad'\n",
    "r = s[::-1]\n",
    "repeat = []\n",
    "\n",
    "for i in range(len(s)):\n",
    "    if s[i] == r[i]:\n",
    "        repeat.append(s[i])\n",
    "print(''.join(repeat))"
   ]
  },
  {
   "cell_type": "code",
   "execution_count": null,
   "metadata": {},
   "outputs": [],
   "source": [
    "# DP Approach\n",
    "\n",
    "\n"
   ]
  },
  {
   "cell_type": "markdown",
   "metadata": {},
   "source": [
    "# Question 3\n",
    "\n",
    "Problem Description:\n",
    "\n",
    "For a string sequence, a string word is k-repeating if word concatenated k times is a substring of\n",
    "sequence. The word's maximum k-repeating value is the highest value k where word is k-repeating\n",
    "in sequence. If word is not a substring of sequence, word's maximum k-repeating value is 0.\n",
    "Given strings sequence and word, return the maximum k-repeating value of word in sequence.\n",
    "\n",
    "Input Description:\n",
    "\n",
    "Two strings `sequence` and `word`.\n",
    "\n",
    "Output Description:\n",
    "\n",
    "The maximum k-repeating value of `word` in `sequence`.\n",
    "\n",
    "Examples:\n",
    "\n",
    "**Example 1:**\n",
    "- Input: `sequence = \"ababc\"`, `word = \"ab\"`\n",
    "- Output: `2`\n",
    "- Explanation: `\"abab\"` is a substring in `\"ababc\"`.\n",
    "\n",
    "**Example 2:**\n",
    "- Input: `sequence = \"ababc\"`, `word = \"ba\"`\n",
    "- Output: `1`\n",
    "- Explanation: `\"ba\"` is a substring in `\"ababc\"`. `\"baba\"` is not a substring in `\"ababc\"`.\n",
    "\n",
    "**Example 3:**\n",
    "- Input: `sequence = \"ababc\"`, `word = \"ac\"`\n",
    "- Output: `0`\n",
    "- Explanation: `\"ac\"` is not a substring in `\"ababc\"`.\n",
    "\n",
    "Constraints:\n",
    "\n",
    "1 <= sequence.length <= 100\n",
    "\n",
    "1 <= word.length <= 100\n",
    "\n",
    "sequence and word contain only lowercase English letters."
   ]
  },
  {
   "cell_type": "code",
   "execution_count": 154,
   "metadata": {},
   "outputs": [
    {
     "name": "stdout",
     "output_type": "stream",
     "text": [
      "2\n"
     ]
    }
   ],
   "source": [
    "# Normal Approach\n",
    "def maxcount(sequence,word):\n",
    "    for k in range(len(sequence) // len(word), -1, -1):\n",
    "        if word * k in sequence:\n",
    "            return k\n",
    "        \n",
    "sequence = 'ababc'\n",
    "#sequence = input()\n",
    "word = 'ab'\n",
    "#word = input()\n",
    "print(maxcount(sequence,word))"
   ]
  },
  {
   "cell_type": "markdown",
   "metadata": {},
   "source": [
    "# Question 4\n",
    "\n",
    "Problem Description:\n",
    "\n",
    "Given an integer array `nums`, find the subarray with the largest sum, and return its sum.\n",
    "\n",
    "Input Description:\n",
    "\n",
    "An integer array `nums`.\n",
    "\n",
    "Output Description:\n",
    "\n",
    "The sum of the subarray with the largest sum.\n",
    "\n",
    "Examples:\n",
    "\n",
    "**Example 1:**\n",
    "- Input: `nums = [-2, 1, -3, 4, -1, 2, 1, -5, 4]`\n",
    "- Output: `6`\n",
    "- Explanation: The subarray `[4, -1, 2, 1]` has the largest sum `6`.\n",
    "\n",
    "**Example 2:**\n",
    "- Input: `nums = [1]`\n",
    "- Output: `1`\n",
    "- Explanation: The subarray `[1]` has the largest sum `1`.\n",
    "\n",
    "**Example 3:**\n",
    "- Input: `nums = [5, 4, -1, 7, 8]`\n",
    "- Output: `23`\n",
    "- Explanation: The subarray `[5, 4, -1, 7, 8]` has the largest sum `23`.\n",
    "\n",
    "Constraints:\n",
    "\n",
    "1 <= nums.length <= 10^5\n",
    "\n",
    "-10^4 <= nums[i] <= 10^4\n",
    "\n"
   ]
  },
  {
   "cell_type": "code",
   "execution_count": 157,
   "metadata": {},
   "outputs": [
    {
     "name": "stdout",
     "output_type": "stream",
     "text": [
      "23\n"
     ]
    }
   ],
   "source": [
    "#Normal Approach\n",
    "nums = [5,4,-1,7,8]\n",
    "#nums = list(map(int, input().split()))\n",
    "big = max(nums)\n",
    "maxs = 0 \n",
    "start = 0\n",
    "end = 0\n",
    "stop = 0\n",
    "\n",
    "for i in range(len(nums)):\n",
    "    maxs = maxs + nums[i]\n",
    "    if big < maxs:\n",
    "        big = maxs\n",
    "    elif maxs <= 0:\n",
    "        maxs = 0\n",
    "        \n",
    "print(maxs)"
   ]
  },
  {
   "cell_type": "markdown",
   "metadata": {},
   "source": [
    "# Question 5\n",
    "\n",
    "Problem Description:\n",
    "\n",
    "You are climbing a staircase. It takes `n` steps to reach the top.\n",
    "\n",
    "Each time you can either climb 1 or 2 steps. In how many distinct ways can you climb to the top?\n",
    "\n",
    "Input Description:\n",
    "An integer `n`.\n",
    "\n",
    "Output Description:\n",
    "The number of distinct ways to climb to the top.\n",
    "\n",
    "Examples:\n",
    "**Example 1:**\n",
    "- Input: `n = 2`\n",
    "- Output: `2`\n",
    "- Explanation: There are two ways to climb to the top.\n",
    "1. 1 step + 1 step\n",
    "2. 2 steps\n",
    "\n",
    "**Example 2:**\n",
    "- Input: `n = 3`\n",
    "- Output: `3`\n",
    "- Explanation: There are three ways to climb to the top.\n",
    "1. 1 step + 1 step + 1 step\n",
    "2. 1 step + 2 steps\n",
    "3. 2 steps + 1 step\n",
    "\n",
    "Constraints:\n",
    "\n",
    "1 <= n <= 45\n"
   ]
  },
  {
   "cell_type": "code",
   "execution_count": 97,
   "metadata": {},
   "outputs": [
    {
     "name": "stdout",
     "output_type": "stream",
     "text": [
      "2\n"
     ]
    }
   ],
   "source": [
    "#Normal approach\n",
    "def climb(N):\n",
    "    if N == 0 or N == 1:\n",
    "        return 1\n",
    "    return climb(N-1) + climb(N-2)\n",
    "\n",
    "#N = int(input())\n",
    "#print(climbStairs(N))  \n",
    "print(climb(2))"
   ]
  },
  {
   "cell_type": "code",
   "execution_count": 64,
   "metadata": {},
   "outputs": [
    {
     "name": "stdout",
     "output_type": "stream",
     "text": [
      "2\n"
     ]
    }
   ],
   "source": [
    "#DP Approach\n",
    "def climbStairs(n):\n",
    "    if n == 1:\n",
    "        return 1\n",
    "    else:\n",
    "        dp = [0] * (n + 1)\n",
    "        dp[1] = 1\n",
    "        dp[2] = 2\n",
    "        \n",
    "        for i in range(3, n+1):\n",
    "            dp[i] = dp[i - 1] + dp[i - 2]\n",
    "        return dp[n]\n",
    "    \n",
    "#N = int(input()) \n",
    "#print(climbStairs(N))\n",
    "print(climbStairs(2))"
   ]
  }
 ],
 "metadata": {
  "kernelspec": {
   "display_name": "Python 3",
   "language": "python",
   "name": "python3"
  },
  "language_info": {
   "codemirror_mode": {
    "name": "ipython",
    "version": 3
   },
   "file_extension": ".py",
   "mimetype": "text/x-python",
   "name": "python",
   "nbconvert_exporter": "python",
   "pygments_lexer": "ipython3",
   "version": "3.12.2"
  }
 },
 "nbformat": 4,
 "nbformat_minor": 2
}
