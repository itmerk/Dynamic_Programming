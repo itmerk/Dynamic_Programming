{
 "cells": [
  {
   "cell_type": "markdown",
   "metadata": {},
   "source": [
    "# Question 1: Two Sum\n",
    "\n",
    "Given an array of integers nums and an integer target, return indices of the two numbers such that they\n",
    "add up to target.\n",
    "\n",
    "You may assume that each input would have exactly one solution, and you may not use the same\n",
    "element twice.\n",
    "\n",
    "You can return the answer in any order.\n",
    "\n",
    "Example:\n",
    "\n",
    "Input: nums = [2,7,11,15], target = 9\n",
    "\n",
    "Output: [0,1]\n",
    "\n",
    "Explanation: Because nums[0] + nums[1] == 9, we return [0, 1]."
   ]
  },
  {
   "cell_type": "code",
   "execution_count": 1,
   "metadata": {},
   "outputs": [
    {
     "name": "stdout",
     "output_type": "stream",
     "text": [
      "[0, 1]\n"
     ]
    }
   ],
   "source": [
    "nums = [2,7,11,15]\n",
    "target = 9\n",
    "arr = {}\n",
    "\n",
    "for index,num in enumerate(nums):\n",
    "    difference = target - num\n",
    "    if difference in arr:\n",
    "        #print(f\"Indices: {arr[difference]} and {index}\")\n",
    "        print([arr[difference],index])\n",
    "        break\n",
    "    \n",
    "    arr[num] = index"
   ]
  },
  {
   "cell_type": "markdown",
   "metadata": {},
   "source": [
    "# Question 2: Group Anagrams\n",
    "\n",
    "Given an array of strings strs, group the anagrams together. You can return the answer in any order.\n",
    "An Anagram is a word or phrase formed by rearranging the letters of a different word or phrase,\n",
    "typically using all the original letters exactly once.\n",
    "\n",
    "Example:\n",
    "\n",
    "Input: strs = [\"eat\",\"tea\",\"tan\",\"ate\",\"nat\",\"bat\"]\n",
    "\n",
    "Output: [[\"bat\"],[\"nat\",\"tan\"],[\"ate\",\"eat\",\"tea\"]]"
   ]
  },
  {
   "cell_type": "code",
   "execution_count": 40,
   "metadata": {},
   "outputs": [
    {
     "name": "stdout",
     "output_type": "stream",
     "text": [
      "['eat', 'tea', 'ate'],['tan', 'nat'],['bat']\n"
     ]
    }
   ],
   "source": [
    "from collections import defaultdict\n",
    "\n",
    "arr = [\"eat\",\"tea\",\"tan\",\"ate\",\"nat\",\"bat\"]\n",
    "\n",
    "groups = {}\n",
    "\n",
    "temp = defaultdict(list)\n",
    "for i in arr:\n",
    "  temp[str(sorted(i))].append(i)\n",
    "res = list(temp.values())\n",
    "\n",
    "print(*res, sep=',')"
   ]
  },
  {
   "cell_type": "markdown",
   "metadata": {},
   "source": [
    "# Question 3: Longest Substring Without Repeating Characters\n",
    "\n",
    "Given a string s, find the length of the longest substring without repeating characters.\n",
    "\n",
    "Example:\n",
    "\n",
    "Input: s = \"abcabcbb\"\n",
    "\n",
    "Output: 3\n",
    "\n",
    "Explanation: The answer is \"abc\", with the length of 3."
   ]
  },
  {
   "cell_type": "code",
   "execution_count": 176,
   "metadata": {},
   "outputs": [
    {
     "name": "stdout",
     "output_type": "stream",
     "text": [
      "3\n"
     ]
    }
   ],
   "source": [
    "s = 'abcabcbb'\n",
    "result = []\n",
    "for i in range(len(s)):\n",
    "    if s[i] != s[i-1] and s[i+1] != s[i]:\n",
    "        result.append(s[i])\n",
    "#print(result)\n",
    "unique_result = list(set(result))\n",
    "print(len(unique_result))"
   ]
  },
  {
   "cell_type": "markdown",
   "metadata": {},
   "source": [
    "# Question 4: Top K Frequent Elements\n",
    "\n",
    "Given an integer array nums and an integer k, return the k most frequent elements. You may return the\n",
    "answer in any order.\n",
    "\n",
    "Example:\n",
    "\n",
    "Input: nums = [1,1,1,2,2,3], k = 2\n",
    "\n",
    "Output: [1,2]"
   ]
  },
  {
   "cell_type": "code",
   "execution_count": 5,
   "metadata": {},
   "outputs": [
    {
     "name": "stdout",
     "output_type": "stream",
     "text": [
      "[1, 2]\n"
     ]
    }
   ],
   "source": [
    "nums = [1,1,1,2,2,3]\n",
    "k = 2\n",
    "frequency_map = {}\n",
    "\n",
    "for num in nums:\n",
    "    frequency_map[num] = frequency_map.get(num, 0) + 1\n",
    "#print(frequency_map)\n",
    "\n",
    "result = []\n",
    "for num, count in frequency_map.items():\n",
    "    if count >= 2:\n",
    "        result.append(num)\n",
    "print(result)"
   ]
  },
  {
   "cell_type": "markdown",
   "metadata": {},
   "source": [
    "# Question 5: Valid Anagram\n",
    "\n",
    "Given two strings s and t, return true if t is an anagram of s, and false otherwise.\n",
    "\n",
    "Example:\n",
    "\n",
    "Input: s = \"anagram\", t = \"nagaram\"\n",
    "\n",
    "Output: true\n",
    "\n",
    "Input: s = \"rat\", t = \"car\"\n",
    "\n",
    "Output: false"
   ]
  },
  {
   "cell_type": "code",
   "execution_count": 103,
   "metadata": {},
   "outputs": [
    {
     "name": "stdout",
     "output_type": "stream",
     "text": [
      "True\n"
     ]
    }
   ],
   "source": [
    "s1='anagram'\n",
    "#s1 = input()\n",
    "s2='nagaram'\n",
    "#s2 = input() \n",
    "\n",
    "frequency_map1 = {}\n",
    "for num in s1:\n",
    "    frequency_map1[num] = frequency_map1.get(num, 0) + 1\n",
    "#print(frequency_map1)\n",
    "#print(sorted(frequency_map1.values()))\n",
    "\n",
    "frequency_map2 = {}\n",
    "for num in s2:\n",
    "    frequency_map2[num] = frequency_map2.get(num, 0) + 1\n",
    "#print(frequency_map2)\n",
    "#print(sorted(frequency_map2.values()))\n",
    "\n",
    "if sorted(frequency_map1.values()) == sorted(frequency_map2.values()) and sorted(frequency_map1) == sorted(frequency_map2):\n",
    "    print(True)\n",
    "else:\n",
    "    print(False)"
   ]
  }
 ],
 "metadata": {
  "kernelspec": {
   "display_name": "Python 3",
   "language": "python",
   "name": "python3"
  },
  "language_info": {
   "codemirror_mode": {
    "name": "ipython",
    "version": 3
   },
   "file_extension": ".py",
   "mimetype": "text/x-python",
   "name": "python",
   "nbconvert_exporter": "python",
   "pygments_lexer": "ipython3",
   "version": "3.12.2"
  }
 },
 "nbformat": 4,
 "nbformat_minor": 2
}
