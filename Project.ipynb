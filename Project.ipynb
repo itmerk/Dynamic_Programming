{
 "cells": [
  {
   "cell_type": "markdown",
   "metadata": {},
   "source": [
    "# Employee Record Management System\n",
    "\n",
    "### Objective: Build an employee record management application.\n",
    "\n",
    "## Requirements:\n",
    "\n",
    "- Create a system to manage employee records.\n",
    "- Allow adding, updating, and deleting employee records.\n",
    "- Implement search functionality based on different criteria (name, department, etc.).\n",
    "- Display reporting hierarchy of employees.\n",
    "- Handle edge cases such as circular references in the reporting structure."
   ]
  },
  {
   "cell_type": "code",
   "execution_count": 6,
   "metadata": {},
   "outputs": [],
   "source": [
    "class Employee:\n",
    "    def __init__(self,emp_id,name,department,manager_id = None):\n",
    "        self.emp_id = emp_id\n",
    "        self.name = name\n",
    "        self.department = department\n",
    "        self.manager_id = manager_id\n",
    "\n",
    "class EmployeeRecord:\n",
    "    def __init__(self):\n",
    "        self.employees = {}\n",
    "\n",
    "    def add_employee(self,emp_id,name,department,manager_id = None):\n",
    "        if emp_id in self.employees:\n",
    "            print(f'Employee with ID {emp_id} already exists.')\n",
    "            return\n",
    "        self.employees[emp_id] = Employee(emp_id,name,department,manager_id)\n",
    "        print(f'Employee {name} added successfully.')\n",
    "\n",
    "    def update_employee(self,emp_id,name= None,department= None,manager_id = None):\n",
    "        if emp_id not in self.employees:\n",
    "            print(f'Employee {emp_id} does not exist.')\n",
    "            return \n",
    "        if name:\n",
    "            self.employees[emp_id].name = name\n",
    "        if department:\n",
    "            self.employees[emp_id].department = department\n",
    "        if manager_id:\n",
    "            self.employees[emp_id].manager_id = manager_id\n",
    "        print(f'Employee {emp_id} detial updated successfully.')\n",
    "\n",
    "    def delete_employee(self,emp_id):\n",
    "        if emp_id not in self.employees:\n",
    "            print(f'Employee with ID {emp_id} does not exits.')\n",
    "            return \n",
    "        del self.employees[emp_id]\n",
    "        print(f'Employee {emp_id} deleted successfully.')\n",
    "\n",
    "    def search_employee(self, **kwargs):\n",
    "        results = []\n",
    "        for emp in self.employees.values():\n",
    "            match = True\n",
    "            for key, value in kwargs.items():\n",
    "                if getattr(emp,key) != value:\n",
    "                    match = False\n",
    "                    break\n",
    "            if match:\n",
    "                results.append(emp)\n",
    "        return results\n",
    "    \n",
    "    def display_hi(self,emp_id,visited = None):\n",
    "        if visited is None:\n",
    "            visited = set()\n",
    "        if emp_id not in self.employees:\n",
    "            print(f'Employee ID {emp_id} does not exits.')\n",
    "        if emp_id in visited:\n",
    "            print('Circular reference Detected')\n",
    "            return\n",
    "        visited.add(emp_id)\n",
    "        emp= self.employees[emp_id]\n",
    "        print(f'Employee ID: {emp.emp_id} Employee Name: {emp.name}, Department: {emp.department}')\n",
    "        subordinates = [e.emp_id for e in self.employees.values() if e.manager_id == emp_id]\n",
    "        for sub_id in subordinates:\n",
    "            self.display_hi(sub_id,visited) \n",
    "\n",
    "if __name__ == \"__main__\":\n",
    "    emp = EmployeeRecord()"
   ]
  },
  {
   "cell_type": "code",
   "execution_count": 7,
   "metadata": {},
   "outputs": [
    {
     "name": "stdout",
     "output_type": "stream",
     "text": [
      "Employee Alice added successfully.\n",
      "Employee Rahul added successfully.\n",
      "Employee Arun added successfully.\n",
      "Employee Naveem added successfully.\n",
      "Employee Kumar added successfully.\n",
      "Employee Martin added successfully.\n"
     ]
    }
   ],
   "source": [
    "emp.add_employee(1,\"Alice\", \"HR\",2)\n",
    "emp.add_employee(2,\"Rahul\", \"Security\",0)\n",
    "emp.add_employee(3,\"Arun\",\"Team Leader\",3)\n",
    "emp.add_employee(4,\"Naveem\",\"Production\",4)\n",
    "emp.add_employee(5,\"Kumar\",\"Manager\",1)\n",
    "emp.add_employee(6,\"Martin\",\"Production\",4)"
   ]
  },
  {
   "cell_type": "code",
   "execution_count": 8,
   "metadata": {},
   "outputs": [
    {
     "name": "stdout",
     "output_type": "stream",
     "text": [
      "Employee 4 detial updated successfully.\n"
     ]
    }
   ],
   "source": [
    "emp.update_employee(4,\"Naveem\",\"Senior Production\",3)"
   ]
  },
  {
   "cell_type": "code",
   "execution_count": 19,
   "metadata": {},
   "outputs": [
    {
     "name": "stdout",
     "output_type": "stream",
     "text": [
      "Employee 4 deleted successfully.\n"
     ]
    }
   ],
   "source": [
    "emp.delete_employee(4)"
   ]
  },
  {
   "cell_type": "code",
   "execution_count": 20,
   "metadata": {},
   "outputs": [
    {
     "name": "stdout",
     "output_type": "stream",
     "text": [
      "Employee with ID 4 does not exits.\n"
     ]
    }
   ],
   "source": [
    "emp.delete_employee(4)"
   ]
  },
  {
   "cell_type": "code",
   "execution_count": 4,
   "metadata": {},
   "outputs": [
    {
     "name": "stdout",
     "output_type": "stream",
     "text": [
      "Found: Rahul (ID: 2, Dept: Security)\n"
     ]
    }
   ],
   "source": [
    "results = emp.search_employee(department=\"Security\")\n",
    "for emp in results:\n",
    "    print(f\"Found: {emp.name} (ID: {emp.emp_id}, Dept: {emp.department})\")"
   ]
  },
  {
   "cell_type": "code",
   "execution_count": 9,
   "metadata": {},
   "outputs": [
    {
     "name": "stdout",
     "output_type": "stream",
     "text": [
      "Employee ID: 4 Employee Name: Naveem, Department: Senior Production\n",
      "Employee ID: 6 Employee Name: Martin, Department: Production\n"
     ]
    }
   ],
   "source": [
    "emp.display_hi(4)"
   ]
  },
  {
   "cell_type": "markdown",
   "metadata": {},
   "source": [
    "# Call Taxi Booking Application\n",
    "\n",
    "## Objective: Design a call taxi booking application.\n",
    "\n",
    "# Requirements:\n",
    "\n",
    "- There are n taxis, assume 4 for simplicity.\n",
    "- Six points (A, B, C, D, E, F) in a straight line, 15 kms apart.\n",
    "- All taxis start at point A.\n",
    "- It takes 60 minutes to travel from one point to the next.\n",
    "- When a customer books a taxi, allocate a free taxi at that point. If none are available, allocate a\n",
    "taxi from the nearest point.\n",
    "- If two taxis are free at the same point, allocate the one with lower earnings.\n",
    "- Taxis charge Rs.100 for the first 5 kms and Rs.10 for each subsequent km.\n",
    "- Taxis only charge from the pickup point to the drop point.\n",
    "- If no taxi is free at the time, the booking is rejected."
   ]
  },
  {
   "cell_type": "code",
   "execution_count": 12,
   "metadata": {},
   "outputs": [],
   "source": [
    "class Taxi:\n",
    "    def __init__(self,id):\n",
    "        self.id = id        # Ref Id \n",
    "        self.location = 'A' # Start Location\n",
    "        self.earnings = 0   # Inital Earning\n",
    "        self.is_free = True # Inital State\n",
    "\n",
    "class TaxiBookingSystem:\n",
    "    def __init__(self,points,dis_bw_point,start_location = 'A',taxis = 4):\n",
    "        self.points = points\n",
    "        self.dis_bw_point = dis_bw_point # Distance b/w points\n",
    "        self.time_to_travel = 60 # min to travel\n",
    "        self.start_location = start_location\n",
    "        self.taxis = [Taxi(i) for i in range(1, taxis + 1)]\n",
    "\n",
    "    def BookTaxi(self,pickup_point,drop_point):\n",
    "        free_taxis = []\n",
    "        for taxi in self.taxis:\n",
    "            if taxi.is_free and taxi.location == pickup_point:\n",
    "                free_taxis.append(taxi)\n",
    "\n",
    "        if not free_taxis:\n",
    "            nearest_taxi = self.find_nearest_taxi(pickup_point)\n",
    "            if not nearest_taxi:\n",
    "                print('Booking Rejected: No Free Taxi avaiable at the time.')\n",
    "                return\n",
    "            taxi = nearest_taxi\n",
    "            travel_time = self.calculate_travel_time(taxi.location,pickup_point)\n",
    "            taxi.location = pickup_point\n",
    "            print(f'Taxi {taxi.id} is assigned from {taxi.location} to {pickup_point}, travel time: {travel_time} minutes')\n",
    "        else:\n",
    "            taxi = min(free_taxis,key=lambda x: x.earnings)\n",
    "        \n",
    "        fare = self.calculate_fare(pickup_point,drop_point)\n",
    "        taxi.earnings += fare\n",
    "        taxi.location = drop_point\n",
    "        taxi.is_free = False\n",
    "\n",
    "        print(f'Taxi {taxi.id} booked from {pickup_point} to {drop_point}. Fare: Rs.{fare}')\n",
    "                  \n",
    "    def find_nearest_taxi(self,point):\n",
    "        min_distance = float('inf')\n",
    "        nearest_taxi = None\n",
    "\n",
    "        for taxi in self.taxi:\n",
    "            if taxi.is_free:\n",
    "                distance = abs(self.points.index(taxi.location)-self.points.index(point))\n",
    "                if distance < min_distance:\n",
    "                    min_distance = distance\n",
    "                    nearest_taxi = taxi\n",
    "                elif distance == min_distance and taxi.earnings < nearest_taxi.earnings:\n",
    "                    nearest_taxi = taxi\n",
    "        return nearest_taxi\n",
    "\n",
    "    def calculate_travel_time(self,start_point,end_point):\n",
    "        distance = abs(self.points.index(start_point) - self.points.index(end_point))\n",
    "        travel_time = distance * self.time_to_travel\n",
    "        return travel_time\n",
    "\n",
    "    def calculate_fare(self,pickup_point,drop_point):\n",
    "        distance = abs(self.points.index(pickup_point) - self.points.index(drop_point)) * self.dis_bw_point\n",
    "        fare = 200 if distance <= 5 else 100 + (distance - 5 ) * 10\n",
    "        return fare\n",
    "    \n",
    "    def release_taxi(self, taxi_id):\n",
    "        taxi = next((taxi for taxi in self.taxis if taxi.id == taxi_id), None)\n",
    "        if taxi:\n",
    "            taxi.is_free = True\n",
    "            print(f\"Taxi {taxi_id} is now free.\")\n",
    "\n",
    "if __name__ == '__main__':\n",
    "    points = ['A','B','C','D','E','F']\n",
    "    distance_between_points = 15\n",
    "    system = TaxiBookingSystem(points,distance_between_points)"
   ]
  },
  {
   "cell_type": "code",
   "execution_count": 13,
   "metadata": {},
   "outputs": [
    {
     "name": "stdout",
     "output_type": "stream",
     "text": [
      "Taxi 1 booked from A to C. Fare: Rs.350\n"
     ]
    }
   ],
   "source": [
    "system.BookTaxi('A', 'C')"
   ]
  },
  {
   "cell_type": "code",
   "execution_count": 14,
   "metadata": {},
   "outputs": [
    {
     "name": "stdout",
     "output_type": "stream",
     "text": [
      "Taxi 2 booked from A to B. Fare: Rs.200\n"
     ]
    }
   ],
   "source": [
    "system.BookTaxi('A', 'B')"
   ]
  },
  {
   "cell_type": "code",
   "execution_count": 15,
   "metadata": {},
   "outputs": [
    {
     "name": "stdout",
     "output_type": "stream",
     "text": [
      "Taxi 1 is now free.\n"
     ]
    }
   ],
   "source": [
    "system.release_taxi(1)"
   ]
  },
  {
   "cell_type": "code",
   "execution_count": 16,
   "metadata": {},
   "outputs": [
    {
     "name": "stdout",
     "output_type": "stream",
     "text": [
      "Taxi 2 is now free.\n"
     ]
    }
   ],
   "source": [
    "system.release_taxi(2)"
   ]
  },
  {
   "cell_type": "code",
   "execution_count": 17,
   "metadata": {},
   "outputs": [
    {
     "name": "stdout",
     "output_type": "stream",
     "text": [
      "Taxi 3 booked from A to F. Fare: Rs.800\n"
     ]
    }
   ],
   "source": [
    "system.BookTaxi('A', 'F')"
   ]
  },
  {
   "cell_type": "code",
   "execution_count": 18,
   "metadata": {},
   "outputs": [
    {
     "name": "stdout",
     "output_type": "stream",
     "text": [
      "Taxi 3 is now free.\n"
     ]
    }
   ],
   "source": [
    "system.release_taxi(3)"
   ]
  }
 ],
 "metadata": {
  "kernelspec": {
   "display_name": "Python 3",
   "language": "python",
   "name": "python3"
  },
  "language_info": {
   "codemirror_mode": {
    "name": "ipython",
    "version": 3
   },
   "file_extension": ".py",
   "mimetype": "text/x-python",
   "name": "python",
   "nbconvert_exporter": "python",
   "pygments_lexer": "ipython3",
   "version": "3.12.2"
  }
 },
 "nbformat": 4,
 "nbformat_minor": 2
}
